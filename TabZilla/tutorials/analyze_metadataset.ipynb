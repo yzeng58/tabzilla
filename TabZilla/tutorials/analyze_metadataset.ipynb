{
 "cells": [
  {
   "attachments": {},
   "cell_type": "markdown",
   "metadata": {},
   "source": [
    "# TabZilla Metadataset Tutorial\n",
    "\n",
    "This notebook demonstrates how analyze our experimental results, including some of the results from our paper.\n",
    "\n",
    "### First Things First\n",
    "\n",
    "1. Please download the TabZilla results dataset `metadataset_clean.csv`, and the dataset meta-features `metafeatures_clean.csv` from our Google Drive folder [here](https://drive.google.com/drive/folders/1cHisTmruPHDCYVOYnaqvTdybLngMkB8R?usp=sharing), and place them in the same directory as this notebook.\n",
    "2. You need to run this notebook with a python (3.11+) environment with `pandas` installed."
   ]
  },
  {
   "attachments": {},
   "cell_type": "markdown",
   "metadata": {},
   "source": [
    "### Read the datasets"
   ]
  },
  {
   "cell_type": "code",
   "execution_count": 2,
   "metadata": {},
   "outputs": [],
   "source": [
    "import pandas as pd\n",
    "\n",
    "metadataset_df = pd.read_csv(\"./metadataset_clean.csv\")\n",
    "metafeatures_df = pd.read_csv(\"./metafeatures_clean.csv\")"
   ]
  },
  {
   "attachments": {},
   "cell_type": "markdown",
   "metadata": {},
   "source": [
    "# 1. Explore our experiment results (`metadataset.csv`)\n",
    "\n",
    "The most important columns in this dataset are:\n",
    "- `dataset_fold_id`: the name of the \"dataset fold\". Each dataset is split into 10 train/test/validation splits for these experiments.\n",
    "- `dataset_name`: the name of the dataset, not including the fold.\n",
    "- `alg_name`: the name of the algorithm.\n",
    "- `hparam_source`: the set of hyperparameters used with the algorithm.\n",
    "\n",
    "Each row contains results for a single algorithm trained on the training set (80%) of the entire dataset, and then evaluated on both the validation and test sets (each 10%). \n",
    "\n",
    "This file includes the following metrics:\n",
    "- Log Loss\n",
    "- AUC\n",
    "- Accuracy\n",
    "- F1 Score\n",
    "- runtime (\"time\").\n",
    "\n",
    "For each of the three splits: train, test, and validation. These columns have the naming convention \"{metric}__{split}\". For example, the column \"Log Loss__val\" is the Log Loss calculated on the validation set, and \"time__test\" is the runtime to evaluate the test test.\n",
    "\n",
    "For example, here are the log loss and training time results for CatBoost using default hyperparameters, for all splits of the dataset \"openml__adult-census__3953\":"
   ]
  },
  {
   "cell_type": "code",
   "execution_count": 11,
   "metadata": {},
   "outputs": [
    {
     "data": {
      "text/html": [
       "<div>\n",
       "<style scoped>\n",
       "    .dataframe tbody tr th:only-of-type {\n",
       "        vertical-align: middle;\n",
       "    }\n",
       "\n",
       "    .dataframe tbody tr th {\n",
       "        vertical-align: top;\n",
       "    }\n",
       "\n",
       "    .dataframe thead th {\n",
       "        text-align: right;\n",
       "    }\n",
       "</style>\n",
       "<table border=\"1\" class=\"dataframe\">\n",
       "  <thead>\n",
       "    <tr style=\"text-align: right;\">\n",
       "      <th></th>\n",
       "      <th>dataset_fold_id</th>\n",
       "      <th>alg_name</th>\n",
       "      <th>hparam_source</th>\n",
       "      <th>Accuracy__test</th>\n",
       "      <th>training_time</th>\n",
       "    </tr>\n",
       "  </thead>\n",
       "  <tbody>\n",
       "    <tr>\n",
       "      <th>562260</th>\n",
       "      <td>openml__jungle_chess_2pcs_raw_endgame_complete...</td>\n",
       "      <td>CatBoost</td>\n",
       "      <td>default</td>\n",
       "      <td>0.829540</td>\n",
       "      <td>2.370031</td>\n",
       "    </tr>\n",
       "    <tr>\n",
       "      <th>562549</th>\n",
       "      <td>openml__jungle_chess_2pcs_raw_endgame_complete...</td>\n",
       "      <td>CatBoost</td>\n",
       "      <td>default</td>\n",
       "      <td>0.827755</td>\n",
       "      <td>1.214042</td>\n",
       "    </tr>\n",
       "    <tr>\n",
       "      <th>562838</th>\n",
       "      <td>openml__jungle_chess_2pcs_raw_endgame_complete...</td>\n",
       "      <td>CatBoost</td>\n",
       "      <td>default</td>\n",
       "      <td>0.836234</td>\n",
       "      <td>1.482092</td>\n",
       "    </tr>\n",
       "    <tr>\n",
       "      <th>563127</th>\n",
       "      <td>openml__jungle_chess_2pcs_raw_endgame_complete...</td>\n",
       "      <td>CatBoost</td>\n",
       "      <td>default</td>\n",
       "      <td>0.842481</td>\n",
       "      <td>1.507916</td>\n",
       "    </tr>\n",
       "    <tr>\n",
       "      <th>563416</th>\n",
       "      <td>openml__jungle_chess_2pcs_raw_endgame_complete...</td>\n",
       "      <td>CatBoost</td>\n",
       "      <td>default</td>\n",
       "      <td>0.844712</td>\n",
       "      <td>1.197246</td>\n",
       "    </tr>\n",
       "    <tr>\n",
       "      <th>563705</th>\n",
       "      <td>openml__jungle_chess_2pcs_raw_endgame_complete...</td>\n",
       "      <td>CatBoost</td>\n",
       "      <td>default</td>\n",
       "      <td>0.846274</td>\n",
       "      <td>1.122574</td>\n",
       "    </tr>\n",
       "    <tr>\n",
       "      <th>563994</th>\n",
       "      <td>openml__jungle_chess_2pcs_raw_endgame_complete...</td>\n",
       "      <td>CatBoost</td>\n",
       "      <td>default</td>\n",
       "      <td>0.829763</td>\n",
       "      <td>1.198574</td>\n",
       "    </tr>\n",
       "    <tr>\n",
       "      <th>564283</th>\n",
       "      <td>openml__jungle_chess_2pcs_raw_endgame_complete...</td>\n",
       "      <td>CatBoost</td>\n",
       "      <td>default</td>\n",
       "      <td>0.830879</td>\n",
       "      <td>1.222639</td>\n",
       "    </tr>\n",
       "    <tr>\n",
       "      <th>564572</th>\n",
       "      <td>openml__jungle_chess_2pcs_raw_endgame_complete...</td>\n",
       "      <td>CatBoost</td>\n",
       "      <td>default</td>\n",
       "      <td>0.841589</td>\n",
       "      <td>1.208539</td>\n",
       "    </tr>\n",
       "    <tr>\n",
       "      <th>564861</th>\n",
       "      <td>openml__jungle_chess_2pcs_raw_endgame_complete...</td>\n",
       "      <td>CatBoost</td>\n",
       "      <td>default</td>\n",
       "      <td>0.840661</td>\n",
       "      <td>1.198245</td>\n",
       "    </tr>\n",
       "  </tbody>\n",
       "</table>\n",
       "</div>"
      ],
      "text/plain": [
       "                                          dataset_fold_id  alg_name  \\\n",
       "562260  openml__jungle_chess_2pcs_raw_endgame_complete...  CatBoost   \n",
       "562549  openml__jungle_chess_2pcs_raw_endgame_complete...  CatBoost   \n",
       "562838  openml__jungle_chess_2pcs_raw_endgame_complete...  CatBoost   \n",
       "563127  openml__jungle_chess_2pcs_raw_endgame_complete...  CatBoost   \n",
       "563416  openml__jungle_chess_2pcs_raw_endgame_complete...  CatBoost   \n",
       "563705  openml__jungle_chess_2pcs_raw_endgame_complete...  CatBoost   \n",
       "563994  openml__jungle_chess_2pcs_raw_endgame_complete...  CatBoost   \n",
       "564283  openml__jungle_chess_2pcs_raw_endgame_complete...  CatBoost   \n",
       "564572  openml__jungle_chess_2pcs_raw_endgame_complete...  CatBoost   \n",
       "564861  openml__jungle_chess_2pcs_raw_endgame_complete...  CatBoost   \n",
       "\n",
       "       hparam_source  Accuracy__test  training_time  \n",
       "562260       default        0.829540       2.370031  \n",
       "562549       default        0.827755       1.214042  \n",
       "562838       default        0.836234       1.482092  \n",
       "563127       default        0.842481       1.507916  \n",
       "563416       default        0.844712       1.197246  \n",
       "563705       default        0.846274       1.122574  \n",
       "563994       default        0.829763       1.198574  \n",
       "564283       default        0.830879       1.222639  \n",
       "564572       default        0.841589       1.208539  \n",
       "564861       default        0.840661       1.198245  "
      ]
     },
     "execution_count": 11,
     "metadata": {},
     "output_type": "execute_result"
    }
   ],
   "source": [
    "metadataset_df.loc[\n",
    "    (metadataset_df[\"alg_name\"] == \"CatBoost\") & \n",
    "    (metadataset_df[\"hparam_source\"] == \"default\") &\n",
    "    (metadataset_df[\"dataset_name\"] == \"openml__jungle_chess_2pcs_raw_endgame_complete__167119\"),\n",
    "    [\n",
    "        \"dataset_fold_id\", \n",
    "        \"alg_name\", \n",
    "        \"hparam_source\", \n",
    "        \"Accuracy__test\", \n",
    "        \"training_time\"]\n",
    "]"
   ]
  },
  {
   "cell_type": "code",
   "execution_count": 8,
   "metadata": {},
   "outputs": [
    {
     "data": {
      "text/plain": [
       "array(['CatBoost', 'DecisionTree', 'DeepFM', 'KNN', 'LightGBM',\n",
       "       'LinearModel', 'MLP', 'RandomForest', 'STG', 'SVM', 'TabNet',\n",
       "       'TabTransformer', 'VIME', 'XGBoost', 'rtdl_MLP', 'rtdl_ResNet',\n",
       "       'DANet', 'NAM', 'NODE', 'SAINT', 'rtdl_FTTransformer',\n",
       "       'TabPFNModel'], dtype=object)"
      ]
     },
     "execution_count": 8,
     "metadata": {},
     "output_type": "execute_result"
    }
   ],
   "source": [
    "metadataset_df[\"alg_name\"].unique()"
   ]
  }
 ],
 "metadata": {
  "kernelspec": {
   "display_name": "sklearn",
   "language": "python",
   "name": "python3"
  },
  "language_info": {
   "codemirror_mode": {
    "name": "ipython",
    "version": 3
   },
   "file_extension": ".py",
   "mimetype": "text/x-python",
   "name": "python",
   "nbconvert_exporter": "python",
   "pygments_lexer": "ipython3",
   "version": "3.11.9"
  },
  "orig_nbformat": 4
 },
 "nbformat": 4,
 "nbformat_minor": 2
}
