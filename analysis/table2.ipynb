{
 "cells": [
  {
   "cell_type": "code",
   "execution_count": 1,
   "metadata": {},
   "outputs": [],
   "source": [
    "import pandas as pd\n",
    "import os, sys, json\n",
    "root_dir = os.path.dirname(os.getcwd())\n",
    "sys.path.append(root_dir)"
   ]
  },
  {
   "cell_type": "markdown",
   "metadata": {},
   "source": [
    "# Datasets"
   ]
  },
  {
   "cell_type": "code",
   "execution_count": 37,
   "metadata": {},
   "outputs": [],
   "source": [
    "DATASETS=(\n",
    "    \"openml__Australian__146818\",\n",
    "    \"openml__LED-display-domain-7digit__125921\",\n",
    "    \"openml__MiceProtein__146800\",\n",
    "    \"openml__acute-inflammations__10089\",\n",
    "    \"openml__analcatdata_authorship__3549\",\n",
    "    \"openml__analcatdata_boxing1__3540\",\n",
    "    \"openml__analcatdata_chlamydia__3739\",\n",
    "    \"openml__analcatdata_dmft__3560\",\n",
    "    \"openml__anneal__2867\",\n",
    "    \"openml__autos__9\",\n",
    "    \"openml__balance-scale__11\",\n",
    "    \"openml__blood-transfusion-service-center__10101\",\n",
    "    \"openml__blood-transfusion-service-center__145836\",\n",
    "    \"openml__breast-cancer__145799\",\n",
    "    \"openml__breast-w__15\",\n",
    "    \"openml__colic__25\",\n",
    "    \"openml__colic__27\",\n",
    "    \"openml__credit-approval__29\",\n",
    "    \"openml__cylinder-bands__14954\",\n",
    "    \"openml__dermatology__35\",\n",
    "    \"openml__diabetes__37\",\n",
    "    \"openml__dresses-sales__125920\",\n",
    "    \"openml__ecoli__145977\",\n",
    "    \"openml__eucalyptus__2079\",\n",
    "    \"openml__fertility__9984\",\n",
    "    \"openml__fri_c0_100_5__3620\",\n",
    "    \"openml__fri_c3_100_5__3779\",\n",
    "    \"openml__glass__40\",\n",
    "    \"openml__hayes-roth__146063\",\n",
    "    \"openml__heart-c__48\",\n",
    "    \"openml__heart-h__50\",\n",
    "    \"openml__hill-valley__145847\",\n",
    "    \"openml__ilpd__9971\",\n",
    "    \"openml__ionosphere__145984\",\n",
    "    \"openml__iris__59\",\n",
    "    \"openml__irish__3543\",\n",
    "    \"openml__kc2__3913\",\n",
    "    \"openml__labor__4\",\n",
    "    \"openml__lung-cancer__146024\",\n",
    "    \"openml__lymph__10\",\n",
    "    \"openml__monks-problems-2__146065\",\n",
    "    \"openml__pc1__3918\",\n",
    "    \"openml__postoperative-patient-data__146210\",\n",
    "    \"openml__profb__3561\",\n",
    "    \"openml__qsar-biodeg__9957\",\n",
    "    \"openml__rabe_266__3647\",\n",
    "    \"openml__socmob__3797\",\n",
    "    \"openml__sonar__39\",\n",
    "    \"openml__synthetic_control__3512\",\n",
    "    \"openml__tae__47\",\n",
    "    \"openml__tic-tac-toe__49\",\n",
    "    \"openml__transplant__3748\",\n",
    "    \"openml__vehicle__53\",\n",
    "    \"openml__visualizing_environmental__3602\",\n",
    "    \"openml__visualizing_livestock__3731\",\n",
    "    \"openml__wdbc__9946\",\n",
    "    \"openml__yeast__145793\",\n",
    ")\n",
    "metadataset_df = pd.read_csv(f\"{root_dir}/TabZilla/tutorials/metadataset_clean.csv\")\n",
    "\n",
    "def read_json(file):\n",
    "    with open(file, \"r\") as f:\n",
    "        return json.load(f)\n",
    "    \n",
    "eval = {}"
   ]
  },
  {
   "cell_type": "code",
   "execution_count": 25,
   "metadata": {},
   "outputs": [],
   "source": [
    "# get the results of TabFlex\n",
    "tabflex_results = {}\n",
    "for dataset in DATASETS:\n",
    "    tabflex_results[dataset] = {}\n",
    "    result_dir = f\"{root_dir}/results/TabFlexModel/{dataset}\"\n",
    "    for i in range(30):\n",
    "        try:\n",
    "            if i == 0:\n",
    "                tabflex_results[dataset][i] = read_json(f\"{result_dir}/default_trial0_results.json\")\n",
    "            else:\n",
    "                tabflex_results[dataset][i] = read_json(f\"{result_dir}/random_{i}_s0_trial{i}_results.json\")\n",
    "        except FileNotFoundError:\n",
    "            print(f\"TabFlexModel: {dataset} trial {i} not found\")\n",
    "            "
   ]
  },
  {
   "cell_type": "code",
   "execution_count": 38,
   "metadata": {},
   "outputs": [],
   "source": [
    "eval['tabflex'] = {}\n",
    "for dataset in tabflex_results:\n",
    "    accs = []\n",
    "    eval['tabflex'][dataset] = {}\n",
    "    for i in tabflex_results[dataset]:\n",
    "        try:\n",
    "            accs.extend(tabflex_results[dataset][i]['scorers']['test']['Accuracy'])\n",
    "        except:\n",
    "            print(f\"TabFlexModel: {dataset} trial {i} not found\")\n",
    "    accs = pd.Series(accs)\n",
    "    eval['tabflex'][dataset]['median_acc'] = accs.median()\n",
    "    eval['tabflex'][dataset]['mean_acc'] = accs.mean()\n",
    "    "
   ]
  },
  {
   "cell_type": "code",
   "execution_count": 47,
   "metadata": {},
   "outputs": [],
   "source": [
    "def get_baselines(method, eval):\n",
    "    eval[method] = {}\n",
    "    for dataset in DATASETS:\n",
    "        eval[method][dataset] = {}\n",
    "        result = metadataset_df.loc[\n",
    "            (metadataset_df[\"alg_name\"] == method) & \n",
    "            (metadataset_df[\"hparam_source\"] == \"default\") &\n",
    "            (metadataset_df[\"dataset_name\"] == dataset),\n",
    "            [\n",
    "                \"dataset_fold_id\", \n",
    "                \"alg_name\", \n",
    "                \"hparam_source\", \n",
    "                \"Accuracy__test\", \n",
    "                \"training_time\"]\n",
    "        ]\n",
    "        eval[method][dataset]['median_acc'] = result[\"Accuracy__test\"].median()\n",
    "        eval[method][dataset]['mean_acc'] = result[\"Accuracy__test\"].mean()\n",
    "    "
   ]
  },
  {
   "cell_type": "code",
   "execution_count": 50,
   "metadata": {},
   "outputs": [],
   "source": [
    "baselines = [\n",
    "    'LinearModel', \n",
    "    'KNN', \n",
    "    'SVM', \n",
    "    'DecisionTree', \n",
    "    'RandomForest', \n",
    "    'XGBoost', \n",
    "    'CatBoost', \n",
    "    'LightGBM', \n",
    "    'MLP', \n",
    "    'TabNet', \n",
    "    'VIME', \n",
    "    'TabTransformer', \n",
    "    'NODE', \n",
    "    'DeepGBM', \n",
    "    'STG', \n",
    "    'NAM', \n",
    "    'DeepFM', \n",
    "    'SAINT', \n",
    "    'DANet', \n",
    "    'TabPFNModel', \n",
    "    'rtdl_MLP', \n",
    "    'rtdl_ResNet', \n",
    "    'rtdl_FTTransformer',\n",
    "]"
   ]
  },
  {
   "cell_type": "code",
   "execution_count": 55,
   "metadata": {},
   "outputs": [
    {
     "data": {
      "text/plain": [
       "Index(['dataset_fold_id', 'dataset_name', 'target_type', 'alg_name',\n",
       "       'hparam_source', 'Log Loss__train', 'Log Loss__val', 'Log Loss__test',\n",
       "       'AUC__train', 'AUC__val', 'AUC__test', 'Accuracy__train',\n",
       "       'Accuracy__val', 'Accuracy__test', 'F1__train', 'F1__val', 'F1__test',\n",
       "       'training_time', 'eval-time__train', 'eval-time__val',\n",
       "       'eval-time__test'],\n",
       "      dtype='object')"
      ]
     },
     "execution_count": 55,
     "metadata": {},
     "output_type": "execute_result"
    }
   ],
   "source": [
    "metadataset_df.columns"
   ]
  },
  {
   "cell_type": "code",
   "execution_count": 51,
   "metadata": {},
   "outputs": [],
   "source": [
    "for baseline in baselines: \n",
    "    try:\n",
    "        get_baselines(baseline, eval)\n",
    "    except:\n",
    "        print(f\"Error in {baseline}\")"
   ]
  },
  {
   "cell_type": "code",
   "execution_count": 52,
   "metadata": {},
   "outputs": [
    {
     "name": "stdout",
     "output_type": "stream",
     "text": [
      "| LinearModel | 0.7736275450142834 |\n",
      "| KNN | 0.7397585454534903 |\n",
      "| SVM | 0.7477843851667558 |\n",
      "| DecisionTree | 0.7719035212915039 |\n",
      "| RandomForest | 0.8065440737065069 |\n",
      "| XGBoost | 0.8094498466827325 |\n",
      "| CatBoost | 0.8146179830353774 |\n",
      "| LightGBM | 0.7802465667858238 |\n",
      "| MLP | 0.7212519755562558 |\n",
      "| TabNet | 0.6878234239482723 |\n",
      "| VIME | 0.6055174415744894 |\n",
      "| TabTransformer | 0.6899508926823906 |\n",
      "| NODE | 0.79062151711632 |\n",
      "| DeepGBM | nan |\n",
      "| STG | 0.6734659013628531 |\n",
      "| NAM | 0.7089848212067189 |\n",
      "| DeepFM | 0.8165445403160158 |\n",
      "| SAINT | 0.7988066966670798 |\n",
      "| DANet | 0.7585700208317423 |\n",
      "| TabPFNModel | 0.8285329708589384 |\n",
      "| rtdl_MLP | 0.7475208433391759 |\n",
      "| rtdl_ResNet | 0.7949493862728517 |\n",
      "| rtdl_FTTransformer | 0.7790287773954705 |\n",
      "| tabflex | 0.7897420889634574 |\n"
     ]
    }
   ],
   "source": [
    "methods = baselines + ['tabflex']\n",
    "\n",
    "for method in methods:\n",
    "    result = pd.DataFrame(eval[method]).T\n",
    "    print(f\"| {method} | {result['mean_acc'].mean()} |\")"
   ]
  },
  {
   "cell_type": "code",
   "execution_count": 45,
   "metadata": {},
   "outputs": [
    {
     "data": {
      "text/plain": [
       "0.7897420889634574"
      ]
     },
     "execution_count": 45,
     "metadata": {},
     "output_type": "execute_result"
    }
   ],
   "source": [
    "result.T['mean_acc'].mean()"
   ]
  },
  {
   "cell_type": "code",
   "execution_count": null,
   "metadata": {},
   "outputs": [],
   "source": []
  }
 ],
 "metadata": {
  "kernelspec": {
   "display_name": "tabpfn",
   "language": "python",
   "name": "python3"
  },
  "language_info": {
   "codemirror_mode": {
    "name": "ipython",
    "version": 3
   },
   "file_extension": ".py",
   "mimetype": "text/x-python",
   "name": "python",
   "nbconvert_exporter": "python",
   "pygments_lexer": "ipython3",
   "version": "3.11.9"
  }
 },
 "nbformat": 4,
 "nbformat_minor": 2
}
