{
 "cells": [
  {
   "cell_type": "code",
   "execution_count": 1,
   "metadata": {},
   "outputs": [],
   "source": [
    "import pandas as pd\n",
    "import os, sys, json\n",
    "root_dir = os.path.dirname(os.getcwd())\n",
    "sys.path.append(root_dir)"
   ]
  },
  {
   "cell_type": "markdown",
   "metadata": {},
   "source": [
    "# Datasets"
   ]
  },
  {
   "cell_type": "code",
   "execution_count": 2,
   "metadata": {},
   "outputs": [],
   "source": [
    "\n",
    "metadataset_df = pd.read_csv(f\"{root_dir}/TabZilla/tutorials/metadataset_clean.csv\")\n",
    "\n",
    "def read_json(file):\n",
    "    with open(file, \"r\") as f:\n",
    "        return json.load(f)\n",
    "    \n",
    "eval = {}"
   ]
  },
  {
   "cell_type": "code",
   "execution_count": 3,
   "metadata": {},
   "outputs": [],
   "source": [
    "def get_datasets(table_idx):\n",
    "    if table_idx == 1:\n",
    "        from analysis.table1 import DATASETS\n",
    "    elif table_idx == 2:\n",
    "        from analysis.table2 import DATASETS\n",
    "    elif table_idx == 4:\n",
    "        from analysis.table4 import DATASETS\n",
    "        \n",
    "    return DATASETS"
   ]
  },
  {
   "cell_type": "code",
   "execution_count": 4,
   "metadata": {},
   "outputs": [
    {
     "name": "stdout",
     "output_type": "stream",
     "text": [
      "TabFlexModel: openml__ada_agnostic__3896openml__airlines__189354 not found\n"
     ]
    }
   ],
   "source": [
    "table_idx = 4\n",
    "DATASETS = get_datasets(table_idx)\n",
    "\n",
    "# get the results of TabFlex\n",
    "tabflex_results = {}\n",
    "for dataset in DATASETS:\n",
    "    result_dir = f\"{root_dir}/results/TabFlexModel/{dataset}\"\n",
    "    try:\n",
    "            tabflex_results[dataset] = read_json(f\"{result_dir}/default_trial0_results.json\")\n",
    "    except FileNotFoundError:\n",
    "        print(f\"TabFlexModel: {dataset} not found\")\n",
    "            "
   ]
  },
  {
   "cell_type": "code",
   "execution_count": 5,
   "metadata": {},
   "outputs": [],
   "source": [
    "eval['tabflex'] = {}\n",
    "for dataset in tabflex_results:\n",
    "    eval['tabflex'][dataset] = {}\n",
    "    accs = tabflex_results[dataset]['scorers']['test']['Accuracy']\n",
    "    accs = pd.Series(accs)\n",
    "    eval['tabflex'][dataset]['median_acc'] = accs.median()\n",
    "    eval['tabflex'][dataset]['mean_acc'] = accs.mean()\n",
    "    "
   ]
  },
  {
   "cell_type": "code",
   "execution_count": 6,
   "metadata": {},
   "outputs": [],
   "source": [
    "def get_baselines(method, eval):\n",
    "    eval[method] = {}\n",
    "    for dataset in DATASETS:\n",
    "        eval[method][dataset] = {}\n",
    "        result = metadataset_df.loc[\n",
    "            (metadataset_df[\"alg_name\"] == method) & \n",
    "            (metadataset_df[\"hparam_source\"] == \"default\") &\n",
    "            (metadataset_df[\"dataset_name\"] == dataset),\n",
    "            [\n",
    "                \"dataset_fold_id\", \n",
    "                \"alg_name\", \n",
    "                \"hparam_source\", \n",
    "                \"Accuracy__test\", \n",
    "                \"training_time\"]\n",
    "        ]\n",
    "        if result.empty:\n",
    "            eval[method][dataset]['median_acc'] = 0\n",
    "            eval[method][dataset]['mean_acc'] = 0\n",
    "        else:\n",
    "            eval[method][dataset]['median_acc'] = result[\"Accuracy__test\"].median()\n",
    "            eval[method][dataset]['mean_acc'] = result[\"Accuracy__test\"].mean()\n",
    "    "
   ]
  },
  {
   "cell_type": "code",
   "execution_count": 7,
   "metadata": {},
   "outputs": [],
   "source": [
    "baselines = [\n",
    "    'LinearModel', \n",
    "    'KNN', \n",
    "    'SVM', \n",
    "    'DecisionTree', \n",
    "    'RandomForest', \n",
    "    'XGBoost', \n",
    "    'CatBoost', \n",
    "    'LightGBM', \n",
    "    'MLP', \n",
    "    'TabNet', \n",
    "    'VIME', \n",
    "    'TabTransformer', \n",
    "    'NODE', \n",
    "    'DeepGBM', \n",
    "    'STG', \n",
    "    'NAM', \n",
    "    'DeepFM', \n",
    "    'SAINT', \n",
    "    'DANet', \n",
    "    'TabPFNModel', \n",
    "    'rtdl_MLP', \n",
    "    'rtdl_ResNet', \n",
    "    'rtdl_FTTransformer',\n",
    "]"
   ]
  },
  {
   "cell_type": "code",
   "execution_count": 8,
   "metadata": {},
   "outputs": [
    {
     "data": {
      "text/plain": [
       "Index(['dataset_fold_id', 'dataset_name', 'target_type', 'alg_name',\n",
       "       'hparam_source', 'Log Loss__train', 'Log Loss__val', 'Log Loss__test',\n",
       "       'AUC__train', 'AUC__val', 'AUC__test', 'Accuracy__train',\n",
       "       'Accuracy__val', 'Accuracy__test', 'F1__train', 'F1__val', 'F1__test',\n",
       "       'training_time', 'eval-time__train', 'eval-time__val',\n",
       "       'eval-time__test'],\n",
       "      dtype='object')"
      ]
     },
     "execution_count": 8,
     "metadata": {},
     "output_type": "execute_result"
    }
   ],
   "source": [
    "metadataset_df.columns"
   ]
  },
  {
   "cell_type": "code",
   "execution_count": 9,
   "metadata": {},
   "outputs": [],
   "source": [
    "for baseline in baselines: \n",
    "    try:\n",
    "        get_baselines(baseline, eval)\n",
    "    except:\n",
    "        print(f\"Error in {baseline}\")"
   ]
  },
  {
   "cell_type": "code",
   "execution_count": 13,
   "metadata": {},
   "outputs": [
    {
     "name": "stdout",
     "output_type": "stream",
     "text": [
      "| XGBoost | 0.7968499617887653 |\n",
      "| rtdl_ResNet | 0.7692302871971485 |\n",
      "| CatBoost | 0.7622398414701581 |\n",
      "| rtdl_MLP | 0.7459065643369371 |\n",
      "| RandomForest | 0.7289414599410395 |\n",
      "| MLP | 0.7239250990129568 |\n",
      "| LightGBM | 0.7190597129172941 |\n",
      "| tabflex | 0.7102846863951989 |\n",
      "| DecisionTree | 0.6816234816254743 |\n",
      "| LinearModel | 0.6812733340787344 |\n",
      "| KNN | 0.6585315186712242 |\n",
      "| NODE | 0.657115893399617 |\n",
      "| TabNet | 0.637308688106541 |\n",
      "| STG | 0.5903941316474768 |\n",
      "| SVM | 0.5866270139733308 |\n",
      "| rtdl_FTTransformer | 0.5784647697260324 |\n",
      "| VIME | 0.5734227612285091 |\n",
      "| DANet | 0.5722235937783006 |\n",
      "| TabTransformer | 0.513612110499139 |\n",
      "| SAINT | 0.47709956658658653 |\n",
      "| DeepFM | 0.4693975434294968 |\n",
      "| NAM | 0.30645967177914923 |\n",
      "| TabPFNModel | 0.29361079602194096 |\n",
      "| DeepGBM | 0.0 |\n"
     ]
    }
   ],
   "source": [
    "methods = baselines + ['tabflex']\n",
    "final_results = {}\n",
    "\n",
    "for method in methods:\n",
    "    result = pd.DataFrame(eval[method]).T\n",
    "    final_results[method] = result['mean_acc'].mean()\n",
    "    \n",
    "sorted_methods = sorted(methods, key=lambda x: final_results[x], reverse=True)\n",
    "for method in sorted_methods:\n",
    "    print(f\"| {method} | {final_results[method]} |\")"
   ]
  },
  {
   "cell_type": "code",
   "execution_count": 11,
   "metadata": {},
   "outputs": [
    {
     "ename": "KeyError",
     "evalue": "'mean_acc'",
     "output_type": "error",
     "traceback": [
      "\u001b[0;31m---------------------------------------------------------------------------\u001b[0m",
      "\u001b[0;31mKeyError\u001b[0m                                  Traceback (most recent call last)",
      "File \u001b[0;32m/datadrive/anaconda3/envs/tabpfn/lib/python3.11/site-packages/pandas/core/indexes/base.py:3805\u001b[0m, in \u001b[0;36mIndex.get_loc\u001b[0;34m(self, key)\u001b[0m\n\u001b[1;32m   3804\u001b[0m \u001b[38;5;28;01mtry\u001b[39;00m:\n\u001b[0;32m-> 3805\u001b[0m     \u001b[38;5;28;01mreturn\u001b[39;00m \u001b[38;5;28;43mself\u001b[39;49m\u001b[38;5;241;43m.\u001b[39;49m\u001b[43m_engine\u001b[49m\u001b[38;5;241;43m.\u001b[39;49m\u001b[43mget_loc\u001b[49m\u001b[43m(\u001b[49m\u001b[43mcasted_key\u001b[49m\u001b[43m)\u001b[49m\n\u001b[1;32m   3806\u001b[0m \u001b[38;5;28;01mexcept\u001b[39;00m \u001b[38;5;167;01mKeyError\u001b[39;00m \u001b[38;5;28;01mas\u001b[39;00m err:\n",
      "File \u001b[0;32mindex.pyx:167\u001b[0m, in \u001b[0;36mpandas._libs.index.IndexEngine.get_loc\u001b[0;34m()\u001b[0m\n",
      "File \u001b[0;32mindex.pyx:196\u001b[0m, in \u001b[0;36mpandas._libs.index.IndexEngine.get_loc\u001b[0;34m()\u001b[0m\n",
      "File \u001b[0;32mpandas/_libs/hashtable_class_helper.pxi:7081\u001b[0m, in \u001b[0;36mpandas._libs.hashtable.PyObjectHashTable.get_item\u001b[0;34m()\u001b[0m\n",
      "File \u001b[0;32mpandas/_libs/hashtable_class_helper.pxi:7089\u001b[0m, in \u001b[0;36mpandas._libs.hashtable.PyObjectHashTable.get_item\u001b[0;34m()\u001b[0m\n",
      "\u001b[0;31mKeyError\u001b[0m: 'mean_acc'",
      "\nThe above exception was the direct cause of the following exception:\n",
      "\u001b[0;31mKeyError\u001b[0m                                  Traceback (most recent call last)",
      "Cell \u001b[0;32mIn[11], line 1\u001b[0m\n\u001b[0;32m----> 1\u001b[0m \u001b[43mresult\u001b[49m\u001b[38;5;241;43m.\u001b[39;49m\u001b[43mT\u001b[49m\u001b[43m[\u001b[49m\u001b[38;5;124;43m'\u001b[39;49m\u001b[38;5;124;43mmean_acc\u001b[39;49m\u001b[38;5;124;43m'\u001b[39;49m\u001b[43m]\u001b[49m\u001b[38;5;241m.\u001b[39mmean()\n",
      "File \u001b[0;32m/datadrive/anaconda3/envs/tabpfn/lib/python3.11/site-packages/pandas/core/frame.py:4102\u001b[0m, in \u001b[0;36mDataFrame.__getitem__\u001b[0;34m(self, key)\u001b[0m\n\u001b[1;32m   4100\u001b[0m \u001b[38;5;28;01mif\u001b[39;00m \u001b[38;5;28mself\u001b[39m\u001b[38;5;241m.\u001b[39mcolumns\u001b[38;5;241m.\u001b[39mnlevels \u001b[38;5;241m>\u001b[39m \u001b[38;5;241m1\u001b[39m:\n\u001b[1;32m   4101\u001b[0m     \u001b[38;5;28;01mreturn\u001b[39;00m \u001b[38;5;28mself\u001b[39m\u001b[38;5;241m.\u001b[39m_getitem_multilevel(key)\n\u001b[0;32m-> 4102\u001b[0m indexer \u001b[38;5;241m=\u001b[39m \u001b[38;5;28;43mself\u001b[39;49m\u001b[38;5;241;43m.\u001b[39;49m\u001b[43mcolumns\u001b[49m\u001b[38;5;241;43m.\u001b[39;49m\u001b[43mget_loc\u001b[49m\u001b[43m(\u001b[49m\u001b[43mkey\u001b[49m\u001b[43m)\u001b[49m\n\u001b[1;32m   4103\u001b[0m \u001b[38;5;28;01mif\u001b[39;00m is_integer(indexer):\n\u001b[1;32m   4104\u001b[0m     indexer \u001b[38;5;241m=\u001b[39m [indexer]\n",
      "File \u001b[0;32m/datadrive/anaconda3/envs/tabpfn/lib/python3.11/site-packages/pandas/core/indexes/base.py:3812\u001b[0m, in \u001b[0;36mIndex.get_loc\u001b[0;34m(self, key)\u001b[0m\n\u001b[1;32m   3807\u001b[0m     \u001b[38;5;28;01mif\u001b[39;00m \u001b[38;5;28misinstance\u001b[39m(casted_key, \u001b[38;5;28mslice\u001b[39m) \u001b[38;5;129;01mor\u001b[39;00m (\n\u001b[1;32m   3808\u001b[0m         \u001b[38;5;28misinstance\u001b[39m(casted_key, abc\u001b[38;5;241m.\u001b[39mIterable)\n\u001b[1;32m   3809\u001b[0m         \u001b[38;5;129;01mand\u001b[39;00m \u001b[38;5;28many\u001b[39m(\u001b[38;5;28misinstance\u001b[39m(x, \u001b[38;5;28mslice\u001b[39m) \u001b[38;5;28;01mfor\u001b[39;00m x \u001b[38;5;129;01min\u001b[39;00m casted_key)\n\u001b[1;32m   3810\u001b[0m     ):\n\u001b[1;32m   3811\u001b[0m         \u001b[38;5;28;01mraise\u001b[39;00m InvalidIndexError(key)\n\u001b[0;32m-> 3812\u001b[0m     \u001b[38;5;28;01mraise\u001b[39;00m \u001b[38;5;167;01mKeyError\u001b[39;00m(key) \u001b[38;5;28;01mfrom\u001b[39;00m \u001b[38;5;21;01merr\u001b[39;00m\n\u001b[1;32m   3813\u001b[0m \u001b[38;5;28;01mexcept\u001b[39;00m \u001b[38;5;167;01mTypeError\u001b[39;00m:\n\u001b[1;32m   3814\u001b[0m     \u001b[38;5;66;03m# If we have a listlike key, _check_indexing_error will raise\u001b[39;00m\n\u001b[1;32m   3815\u001b[0m     \u001b[38;5;66;03m#  InvalidIndexError. Otherwise we fall through and re-raise\u001b[39;00m\n\u001b[1;32m   3816\u001b[0m     \u001b[38;5;66;03m#  the TypeError.\u001b[39;00m\n\u001b[1;32m   3817\u001b[0m     \u001b[38;5;28mself\u001b[39m\u001b[38;5;241m.\u001b[39m_check_indexing_error(key)\n",
      "\u001b[0;31mKeyError\u001b[0m: 'mean_acc'"
     ]
    }
   ],
   "source": [
    "result.T['mean_acc'].mean()"
   ]
  },
  {
   "cell_type": "code",
   "execution_count": null,
   "metadata": {},
   "outputs": [],
   "source": []
  }
 ],
 "metadata": {
  "kernelspec": {
   "display_name": "tabpfn",
   "language": "python",
   "name": "python3"
  },
  "language_info": {
   "codemirror_mode": {
    "name": "ipython",
    "version": 3
   },
   "file_extension": ".py",
   "mimetype": "text/x-python",
   "name": "python",
   "nbconvert_exporter": "python",
   "pygments_lexer": "ipython3",
   "version": "3.11.9"
  }
 },
 "nbformat": 4,
 "nbformat_minor": 2
}
